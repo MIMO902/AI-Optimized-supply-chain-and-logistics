{
 "cells": [
  {
   "cell_type": "markdown",
   "metadata": {},
   "source": [
    "# Store item demand forecasting\n",
    "In this project, I will build a machine learning model to forecast 3 months of 50 items sales in 10 stores of a company. It involves supervised learning, using a labeled training set for regression.\n",
    "\n",
    "I will use the following pipeline, based on CRISP-DM framework:\n",
    "\n",
    "1. Define the business problem\n",
    "2. Initial data understanding\n",
    "3. Feature engineering and exploratory data analysis\n",
    "4. Data cleaning and preprocessing\n",
    "5. Modelling\n",
    "6. Determine financial results\n",
    "\n",
    "In this notebook, I will be covering steps 1 to 3 of the pipeline above. The main objective here is to assess the time series data (5 years of sales) trends, seasonal patterns and characteristics, which will guide the modelling step and provide valuable business insights. Furthermore, I will approach these steps in detail below, explaining why I am making each decision."
   ]
  },
  {
   "cell_type": "markdown",
   "metadata": {},
   "source": [
    "# 1. Business problem\n",
    "\n",
    "We are asked to forecast sales for 50 items across 10 stores over a three-month period.\n",
    "\n",
    "Sales forecasting for 50 items across 10 stores over a three-month period involves utilizing historical sales data, market trends, and store-specific variables to predict future sales levels. This process enables businesses to strategically manage inventory, allocate resources effectively, and optimize sales strategies for each item and store, maximizing overall revenue and profitability.\n",
    "\n",
    "Considering everything mentioned above, the project objectives are:\n",
    "1. Identify valuable business insights about sales over time, like seasonal patterns, trends and general characteristics\n",
    "2. Construct a model able to accurately predict the sales for 50 items across 10 stores over a three-month period.\n",
    "3. Determine financial results given by the project.\n",
    "\n",
    "As a result, the business problem will be resolved."
   ]
  }
 ],
 "metadata": {
  "kernelspec": {
   "display_name": "Python 3",
   "language": "python",
   "name": "python3"
  },
  "language_info": {
   "codemirror_mode": {
    "name": "ipython",
    "version": 3
   },
   "file_extension": ".py",
   "mimetype": "text/x-python",
   "name": "python",
   "nbconvert_exporter": "python",
   "pygments_lexer": "ipython3",
   "version": "3.11.5"
  },
  "orig_nbformat": 4
 },
 "nbformat": 4,
 "nbformat_minor": 2
}
