{
 "cells": [
  {
   "cell_type": "markdown",
   "metadata": {},
   "source": [
    "# Store item demand forecasting\n",
    "In this project, I will build a machine learning model to forecast 3 months of 50 items sales in 10 different stores of a company. It involves supervised learning, using a labeled training set for time series forecasting.\n",
    "\n",
    "I will use the following pipeline, based on CRISP-DM framework:\n",
    "\n",
    "1. Business understanding\n",
    "2. Data understanding\n",
    "3. Data preparation\n",
    "4. Modelling\n",
    "5. Evaluation\n",
    "6. Deployment\n",
    "\n",
    "In this notebook, I will be covering steps 3 to 6 of the pipeline above. The main objective here is to build a model capable of accurately forecasting sales for 50 items across 10 stores over a three-month period, interpreting its outcomes and determining financial results. Furthermore, I will approach these steps in detail below, explaining why I am making each decision."
   ]
  },
  {
   "cell_type": "markdown",
   "metadata": {},
   "source": [
    "### Importing the libraries"
   ]
  },
  {
   "cell_type": "code",
   "execution_count": 58,
   "metadata": {},
   "outputs": [],
   "source": [
    "# Data manipulation and visualization\n",
    "import pandas as pd\n",
    "import numpy as np\n",
    "import matplotlib.pyplot as plt\n",
    "import seaborn as sns\n",
    "\n",
    "# Modelling\n",
    "from sklearn.metrics import mean_squared_error, mean_absolute_error, r2_score\n",
    "from lightgbm import LGBMRegressor\n",
    "\n",
    "# Warnings filtering.\n",
    "import warnings\n",
    "warnings.filterwarnings('ignore')\n",
    "\n",
    "# Plot grid styles.\n",
    "sns.set_theme(style='whitegrid')"
   ]
  },
  {
   "cell_type": "markdown",
   "metadata": {},
   "source": [
    "### Reading the dataset"
   ]
  },
  {
   "cell_type": "code",
   "execution_count": 44,
   "metadata": {},
   "outputs": [],
   "source": [
    "df_raw = pd.read_csv('data/train.csv')"
   ]
  },
  {
   "cell_type": "code",
   "execution_count": 45,
   "metadata": {},
   "outputs": [
    {
     "data": {
      "text/html": [
       "<div>\n",
       "<style scoped>\n",
       "    .dataframe tbody tr th:only-of-type {\n",
       "        vertical-align: middle;\n",
       "    }\n",
       "\n",
       "    .dataframe tbody tr th {\n",
       "        vertical-align: top;\n",
       "    }\n",
       "\n",
       "    .dataframe thead th {\n",
       "        text-align: right;\n",
       "    }\n",
       "</style>\n",
       "<table border=\"1\" class=\"dataframe\">\n",
       "  <thead>\n",
       "    <tr style=\"text-align: right;\">\n",
       "      <th></th>\n",
       "      <th>date</th>\n",
       "      <th>store</th>\n",
       "      <th>item</th>\n",
       "      <th>sales</th>\n",
       "    </tr>\n",
       "  </thead>\n",
       "  <tbody>\n",
       "    <tr>\n",
       "      <th>0</th>\n",
       "      <td>2013-01-01</td>\n",
       "      <td>1</td>\n",
       "      <td>1</td>\n",
       "      <td>13</td>\n",
       "    </tr>\n",
       "    <tr>\n",
       "      <th>1</th>\n",
       "      <td>2013-01-02</td>\n",
       "      <td>1</td>\n",
       "      <td>1</td>\n",
       "      <td>11</td>\n",
       "    </tr>\n",
       "    <tr>\n",
       "      <th>2</th>\n",
       "      <td>2013-01-03</td>\n",
       "      <td>1</td>\n",
       "      <td>1</td>\n",
       "      <td>14</td>\n",
       "    </tr>\n",
       "    <tr>\n",
       "      <th>3</th>\n",
       "      <td>2013-01-04</td>\n",
       "      <td>1</td>\n",
       "      <td>1</td>\n",
       "      <td>13</td>\n",
       "    </tr>\n",
       "    <tr>\n",
       "      <th>4</th>\n",
       "      <td>2013-01-05</td>\n",
       "      <td>1</td>\n",
       "      <td>1</td>\n",
       "      <td>10</td>\n",
       "    </tr>\n",
       "  </tbody>\n",
       "</table>\n",
       "</div>"
      ],
      "text/plain": [
       "         date  store  item  sales\n",
       "0  2013-01-01      1     1     13\n",
       "1  2013-01-02      1     1     11\n",
       "2  2013-01-03      1     1     14\n",
       "3  2013-01-04      1     1     13\n",
       "4  2013-01-05      1     1     10"
      ]
     },
     "execution_count": 45,
     "metadata": {},
     "output_type": "execute_result"
    }
   ],
   "source": [
    "df_raw.head()"
   ]
  },
  {
   "cell_type": "markdown",
   "metadata": {},
   "source": [
    "I will convert the date column to the correct data type (datetime) and set it as the dataset index in order to turn the modelling step easier. In a forecasting task, the date column is very important. From the dates, other time series features will be created and we will be able to visualize the sales trends, seasonal patterns and characteristics over time. Another common practice is to set the date as the dataset index, and I will also do that."
   ]
  },
  {
   "cell_type": "code",
   "execution_count": 46,
   "metadata": {},
   "outputs": [
    {
     "data": {
      "text/html": [
       "<div>\n",
       "<style scoped>\n",
       "    .dataframe tbody tr th:only-of-type {\n",
       "        vertical-align: middle;\n",
       "    }\n",
       "\n",
       "    .dataframe tbody tr th {\n",
       "        vertical-align: top;\n",
       "    }\n",
       "\n",
       "    .dataframe thead th {\n",
       "        text-align: right;\n",
       "    }\n",
       "</style>\n",
       "<table border=\"1\" class=\"dataframe\">\n",
       "  <thead>\n",
       "    <tr style=\"text-align: right;\">\n",
       "      <th></th>\n",
       "      <th>store</th>\n",
       "      <th>item</th>\n",
       "      <th>sales</th>\n",
       "    </tr>\n",
       "    <tr>\n",
       "      <th>date</th>\n",
       "      <th></th>\n",
       "      <th></th>\n",
       "      <th></th>\n",
       "    </tr>\n",
       "  </thead>\n",
       "  <tbody>\n",
       "    <tr>\n",
       "      <th>2013-01-01</th>\n",
       "      <td>1</td>\n",
       "      <td>1</td>\n",
       "      <td>13</td>\n",
       "    </tr>\n",
       "    <tr>\n",
       "      <th>2013-01-01</th>\n",
       "      <td>1</td>\n",
       "      <td>2</td>\n",
       "      <td>33</td>\n",
       "    </tr>\n",
       "    <tr>\n",
       "      <th>2013-01-01</th>\n",
       "      <td>1</td>\n",
       "      <td>3</td>\n",
       "      <td>15</td>\n",
       "    </tr>\n",
       "    <tr>\n",
       "      <th>2013-01-01</th>\n",
       "      <td>1</td>\n",
       "      <td>4</td>\n",
       "      <td>10</td>\n",
       "    </tr>\n",
       "    <tr>\n",
       "      <th>2013-01-01</th>\n",
       "      <td>1</td>\n",
       "      <td>5</td>\n",
       "      <td>11</td>\n",
       "    </tr>\n",
       "  </tbody>\n",
       "</table>\n",
       "</div>"
      ],
      "text/plain": [
       "            store  item  sales\n",
       "date                          \n",
       "2013-01-01      1     1     13\n",
       "2013-01-01      1     2     33\n",
       "2013-01-01      1     3     15\n",
       "2013-01-01      1     4     10\n",
       "2013-01-01      1     5     11"
      ]
     },
     "execution_count": 46,
     "metadata": {},
     "output_type": "execute_result"
    }
   ],
   "source": [
    "df_raw['date'] = pd.to_datetime(df_raw['date'])\n",
    "df_raw.set_index('date', inplace=True)\n",
    "df_raw.sort_values(by=['date', 'store', 'item'], inplace=True)\n",
    "df_raw.head()"
   ]
  },
  {
   "cell_type": "code",
   "execution_count": 47,
   "metadata": {},
   "outputs": [
    {
     "name": "stdout",
     "output_type": "stream",
     "text": [
      "The data goes from 2013-01-01 00:00:00 to 2017-12-31 00:00:00.\n"
     ]
    }
   ],
   "source": [
    "print(f'The data goes from {df_raw.index.min()} to {df_raw.index.max()}.')"
   ]
  },
  {
   "cell_type": "markdown",
   "metadata": {},
   "source": [
    "Now, based on CRISP-DM framework, I will start to perform feature engineering / data preparation and modelling. From the framework, we can turn back to the data preparation step after modelling and vice-versa. I will do this, since I intend to start with a baseline model constructed with more simple feature engineering and keep testing different approaches until the best performance is achieved."
   ]
  },
  {
   "cell_type": "markdown",
   "metadata": {},
   "source": [
    "# 4. Data preparation\n",
    "- In this step, I will do all the data preparation, like feature engineering, train-test split and data preprocessing. \n",
    "- I will be turning back to this phase after modelling in order to test different approaches (from simpler to more complex ones) until the best performance is achieved in a crisp-dm data preparation / modelling cycle. Thus, I will enumerate the distinct data preparations and modelling approaches I will test.\n",
    "- I intend to use LightGBM for the sales forecasting because I am focusing on the predictive power. LightGBM offers fast training and high predictive power by using the gradient boosting trees framework. Furthermore, with its early stopping parameter, it is possible to avoid overfitting by stopping the training when the validation error stops to decrease while the training error continues decreasing. This is the moment where overfitting starts.\n",
    "- Tree-based models like LightGBM don't require feature scaling. Thus, I will not scale the data.\n",
    "- Time series features like dayofweek and weeokfyear already present ordinal relationships, allowing the ensembles to capture seasonality and so on. Thus, it may not be an advantage encoding them. One-hot encoding, for example, would damage trees performance due to sparse representation and dimensionality increase. Moreover, although they are in numeric data type, features like store and item present categorical behaviour and could be encoded. \n",
    "- Considering everything mentioned above, initially, I don't intend to perform any transformation to these features. However, I will test different approaches, turning back to data preparation after modelling, in a crisp-dm data preparation / modelling cycle.\n",
    "- LightGBM already deals with missing values, so, when creating features like lags, I will not treat them.\n",
    "- The outliers were investigated in the EDA step. Once they don't represent iconsistent information, I will not treat them.\n",
    "- For time series forecasting, a bunch of features can be created, including lag features, rolling statistics, date-related features, holiday indicators, time-based aggregations and so on. I will test them below.\n",
    "- Considering that sales variable is significantly right-skewed, a log-transformation can be applied to normalize it, turning it more symmetric. Again, I will test different approaches below, including this one."
   ]
  },
  {
   "cell_type": "markdown",
   "metadata": {},
   "source": [
    "Once I will test different data preparation and modelling approaches, I will create a function that splits the data in predictor and target train and test sets for us in order to turn this task faster. The split will follow a chronological order, once I am dealing with a time series task."
   ]
  },
  {
   "cell_type": "code",
   "execution_count": 92,
   "metadata": {},
   "outputs": [],
   "source": [
    "def time_series_split(data, target, cutoff_date):\n",
    "\n",
    "    train = data.loc[data.index < cutoff_date]\n",
    "    test = data.loc[data.index >= cutoff_date]\n",
    "    \n",
    "    X_train = train.drop(columns=[target])\n",
    "    y_train = train[target].copy()\n",
    "    X_test = test.drop(columns=[target])\n",
    "    y_test = test[target].copy()\n",
    "\n",
    "    return train, test, X_train, X_test, y_train, y_test"
   ]
  },
  {
   "cell_type": "markdown",
   "metadata": {},
   "source": [
    "### 1.0 Baseline\n",
    "Below I will start with a baseline data preparation and modelling. Then, I will try to enhance this baseline model performance in a crisp-dm data preparation / modelling cycle."
   ]
  },
  {
   "cell_type": "markdown",
   "metadata": {},
   "source": [
    "### 1.1 Basic feature engineering\n",
    "Initially, let's create basic time series features. "
   ]
  },
  {
   "cell_type": "code",
   "execution_count": 49,
   "metadata": {},
   "outputs": [],
   "source": [
    "def feature_engineering(data):\n",
    "    \n",
    "    df = data.copy()\n",
    "    \n",
    "    df['dayofweek'] = df.index.dayofweek\n",
    "    df['quarter'] = df.index.quarter\n",
    "    df['month'] = df.index.month\n",
    "    df['year'] = df.index.year\n",
    "    df['dayofyear'] = df.index.dayofyear\n",
    "    df['dayofmonth'] = df.index.day\n",
    "    df['weekofyear'] = df.index.isocalendar().week.astype(np.float64)\n",
    "    df['is_wknd'] = df.index.weekday // 4\n",
    "    df['is_month_start'] = df.index.is_month_start.astype(int)\n",
    "    df['is_month_end'] = df.index.is_month_end.astype(int)\n",
    "\n",
    "    return df"
   ]
  },
  {
   "cell_type": "code",
   "execution_count": 50,
   "metadata": {},
   "outputs": [
    {
     "data": {
      "text/html": [
       "<div>\n",
       "<style scoped>\n",
       "    .dataframe tbody tr th:only-of-type {\n",
       "        vertical-align: middle;\n",
       "    }\n",
       "\n",
       "    .dataframe tbody tr th {\n",
       "        vertical-align: top;\n",
       "    }\n",
       "\n",
       "    .dataframe thead th {\n",
       "        text-align: right;\n",
       "    }\n",
       "</style>\n",
       "<table border=\"1\" class=\"dataframe\">\n",
       "  <thead>\n",
       "    <tr style=\"text-align: right;\">\n",
       "      <th></th>\n",
       "      <th>store</th>\n",
       "      <th>item</th>\n",
       "      <th>sales</th>\n",
       "      <th>dayofweek</th>\n",
       "      <th>quarter</th>\n",
       "      <th>month</th>\n",
       "      <th>year</th>\n",
       "      <th>dayofyear</th>\n",
       "      <th>dayofmonth</th>\n",
       "      <th>weekofyear</th>\n",
       "      <th>is_wknd</th>\n",
       "      <th>is_month_start</th>\n",
       "      <th>is_month_end</th>\n",
       "    </tr>\n",
       "    <tr>\n",
       "      <th>date</th>\n",
       "      <th></th>\n",
       "      <th></th>\n",
       "      <th></th>\n",
       "      <th></th>\n",
       "      <th></th>\n",
       "      <th></th>\n",
       "      <th></th>\n",
       "      <th></th>\n",
       "      <th></th>\n",
       "      <th></th>\n",
       "      <th></th>\n",
       "      <th></th>\n",
       "      <th></th>\n",
       "    </tr>\n",
       "  </thead>\n",
       "  <tbody>\n",
       "    <tr>\n",
       "      <th>2013-01-01</th>\n",
       "      <td>1</td>\n",
       "      <td>1</td>\n",
       "      <td>13</td>\n",
       "      <td>1</td>\n",
       "      <td>1</td>\n",
       "      <td>1</td>\n",
       "      <td>2013</td>\n",
       "      <td>1</td>\n",
       "      <td>1</td>\n",
       "      <td>1.0</td>\n",
       "      <td>0</td>\n",
       "      <td>1</td>\n",
       "      <td>0</td>\n",
       "    </tr>\n",
       "    <tr>\n",
       "      <th>2013-01-01</th>\n",
       "      <td>1</td>\n",
       "      <td>2</td>\n",
       "      <td>33</td>\n",
       "      <td>1</td>\n",
       "      <td>1</td>\n",
       "      <td>1</td>\n",
       "      <td>2013</td>\n",
       "      <td>1</td>\n",
       "      <td>1</td>\n",
       "      <td>1.0</td>\n",
       "      <td>0</td>\n",
       "      <td>1</td>\n",
       "      <td>0</td>\n",
       "    </tr>\n",
       "    <tr>\n",
       "      <th>2013-01-01</th>\n",
       "      <td>1</td>\n",
       "      <td>3</td>\n",
       "      <td>15</td>\n",
       "      <td>1</td>\n",
       "      <td>1</td>\n",
       "      <td>1</td>\n",
       "      <td>2013</td>\n",
       "      <td>1</td>\n",
       "      <td>1</td>\n",
       "      <td>1.0</td>\n",
       "      <td>0</td>\n",
       "      <td>1</td>\n",
       "      <td>0</td>\n",
       "    </tr>\n",
       "    <tr>\n",
       "      <th>2013-01-01</th>\n",
       "      <td>1</td>\n",
       "      <td>4</td>\n",
       "      <td>10</td>\n",
       "      <td>1</td>\n",
       "      <td>1</td>\n",
       "      <td>1</td>\n",
       "      <td>2013</td>\n",
       "      <td>1</td>\n",
       "      <td>1</td>\n",
       "      <td>1.0</td>\n",
       "      <td>0</td>\n",
       "      <td>1</td>\n",
       "      <td>0</td>\n",
       "    </tr>\n",
       "    <tr>\n",
       "      <th>2013-01-01</th>\n",
       "      <td>1</td>\n",
       "      <td>5</td>\n",
       "      <td>11</td>\n",
       "      <td>1</td>\n",
       "      <td>1</td>\n",
       "      <td>1</td>\n",
       "      <td>2013</td>\n",
       "      <td>1</td>\n",
       "      <td>1</td>\n",
       "      <td>1.0</td>\n",
       "      <td>0</td>\n",
       "      <td>1</td>\n",
       "      <td>0</td>\n",
       "    </tr>\n",
       "  </tbody>\n",
       "</table>\n",
       "</div>"
      ],
      "text/plain": [
       "            store  item  sales  dayofweek  quarter  month  year  dayofyear   \n",
       "date                                                                         \n",
       "2013-01-01      1     1     13          1        1      1  2013          1  \\\n",
       "2013-01-01      1     2     33          1        1      1  2013          1   \n",
       "2013-01-01      1     3     15          1        1      1  2013          1   \n",
       "2013-01-01      1     4     10          1        1      1  2013          1   \n",
       "2013-01-01      1     5     11          1        1      1  2013          1   \n",
       "\n",
       "            dayofmonth  weekofyear  is_wknd  is_month_start  is_month_end  \n",
       "date                                                                       \n",
       "2013-01-01           1         1.0        0               1             0  \n",
       "2013-01-01           1         1.0        0               1             0  \n",
       "2013-01-01           1         1.0        0               1             0  \n",
       "2013-01-01           1         1.0        0               1             0  \n",
       "2013-01-01           1         1.0        0               1             0  "
      ]
     },
     "execution_count": 50,
     "metadata": {},
     "output_type": "execute_result"
    }
   ],
   "source": [
    "df = feature_engineering(df_raw)\n",
    "df.head()"
   ]
  },
  {
   "cell_type": "markdown",
   "metadata": {},
   "source": [
    "### 1.2 Time series train-test-split\n",
    "I will split the data into train and test sets. Test set is supposed to be data the model has never seen before. Once the objective is to predict 3 months of item demand, I will separate 3 months of data for the test. An important observation here is that I will divide the data chronologically, using earlier data for training and later data for testing, ensuring the model predicts future events. Randomly splitting the data would lead to data leakage."
   ]
  },
  {
   "cell_type": "code",
   "execution_count": 96,
   "metadata": {},
   "outputs": [],
   "source": [
    "cutoff_date = '2017-09-30'\n",
    "train, test, X_train, X_test, y_train, y_test = time_series_split(df, target='sales', cutoff_date=cutoff_date)"
   ]
  },
  {
   "cell_type": "code",
   "execution_count": 95,
   "metadata": {},
   "outputs": [
    {
     "name": "stdout",
     "output_type": "stream",
     "text": [
      "Train shape: (866500, 13). Train data goes from 2013-01-01 00:00:00 to 2017-09-29 00:00:00.\n",
      "Test shape: (46500, 13). Train data goes from 2017-09-30 00:00:00 to 2017-12-31 00:00:00.\n",
      "Train predictor and target sets shapes: (866500, 12), (866500,)\n",
      "Test predictor and target sets shapes: (46500, 12), (46500,)\n"
     ]
    }
   ],
   "source": [
    "print(f'Train shape: {train.shape}. Train data goes from {train.index.min()} to {train.index.max()}.')\n",
    "print(f'Test shape: {test.shape}. Train data goes from {test.index.min()} to {test.index.max()}.')\n",
    "print(f'Train predictor and target sets shapes: {X_train.shape}, {y_train.shape}')\n",
    "print(f'Test predictor and target sets shapes: {X_test.shape}, {y_test.shape}')"
   ]
  },
  {
   "cell_type": "markdown",
   "metadata": {},
   "source": [
    "Let's visualize the time series train-test-split."
   ]
  },
  {
   "cell_type": "code",
   "execution_count": 53,
   "metadata": {},
   "outputs": [
    {
     "data": {
      "image/png": "[encoded data removed]",
      "text/plain": [
       "<Figure size 2000x700 with 1 Axes>"
      ]
     },
     "metadata": {},
     "output_type": "display_data"
    }
   ],
   "source": [
    "figure, ax = plt.subplots(figsize=(20, 7))\n",
    "\n",
    "train.plot(ax=ax, label='Train', y='sales')\n",
    "test.plot(ax=ax, label='Test', y='sales')\n",
    "\n",
    "ax.axvline('2017-09-30', color='black', ls='--')\n",
    "\n",
    "plt.title('Time Series Train-Test-Split')\n",
    "plt.xlabel('Date')\n",
    "plt.ylabel('Sales')\n",
    "plt.show()"
   ]
  },
  {
   "cell_type": "markdown",
   "metadata": {},
   "source": [
    "### 2.0 Log Transformation\n",
    "Considering that sales variable is significantly right-skewed (I found this on EDA step), I will apply a log transformation to it in order to turn it more symmetric. By doing this, the model will better capture the patterns behind the data. An important observation here is that there are records with zero sales. Thus, I will add a constant (1) to the log transformation."
   ]
  },
  {
   "cell_type": "code",
   "execution_count": 105,
   "metadata": {},
   "outputs": [
    {
     "data": {
      "text/html": [
       "<div>\n",
       "<style scoped>\n",
       "    .dataframe tbody tr th:only-of-type {\n",
       "        vertical-align: middle;\n",
       "    }\n",
       "\n",
       "    .dataframe tbody tr th {\n",
       "        vertical-align: top;\n",
       "    }\n",
       "\n",
       "    .dataframe thead th {\n",
       "        text-align: right;\n",
       "    }\n",
       "</style>\n",
       "<table border=\"1\" class=\"dataframe\">\n",
       "  <thead>\n",
       "    <tr style=\"text-align: right;\">\n",
       "      <th></th>\n",
       "      <th>store</th>\n",
       "      <th>item</th>\n",
       "      <th>sales</th>\n",
       "      <th>dayofweek</th>\n",
       "      <th>quarter</th>\n",
       "      <th>month</th>\n",
       "      <th>year</th>\n",
       "      <th>dayofyear</th>\n",
       "      <th>dayofmonth</th>\n",
       "      <th>weekofyear</th>\n",
       "      <th>is_wknd</th>\n",
       "      <th>is_month_start</th>\n",
       "      <th>is_month_end</th>\n",
       "    </tr>\n",
       "    <tr>\n",
       "      <th>date</th>\n",
       "      <th></th>\n",
       "      <th></th>\n",
       "      <th></th>\n",
       "      <th></th>\n",
       "      <th></th>\n",
       "      <th></th>\n",
       "      <th></th>\n",
       "      <th></th>\n",
       "      <th></th>\n",
       "      <th></th>\n",
       "      <th></th>\n",
       "      <th></th>\n",
       "      <th></th>\n",
       "    </tr>\n",
       "  </thead>\n",
       "  <tbody>\n",
       "    <tr>\n",
       "      <th>2013-01-01</th>\n",
       "      <td>1</td>\n",
       "      <td>1</td>\n",
       "      <td>2.639057</td>\n",
       "      <td>1</td>\n",
       "      <td>1</td>\n",
       "      <td>1</td>\n",
       "      <td>2013</td>\n",
       "      <td>1</td>\n",
       "      <td>1</td>\n",
       "      <td>1.0</td>\n",
       "      <td>0</td>\n",
       "      <td>1</td>\n",
       "      <td>0</td>\n",
       "    </tr>\n",
       "    <tr>\n",
       "      <th>2013-01-01</th>\n",
       "      <td>1</td>\n",
       "      <td>2</td>\n",
       "      <td>3.526361</td>\n",
       "      <td>1</td>\n",
       "      <td>1</td>\n",
       "      <td>1</td>\n",
       "      <td>2013</td>\n",
       "      <td>1</td>\n",
       "      <td>1</td>\n",
       "      <td>1.0</td>\n",
       "      <td>0</td>\n",
       "      <td>1</td>\n",
       "      <td>0</td>\n",
       "    </tr>\n",
       "    <tr>\n",
       "      <th>2013-01-01</th>\n",
       "      <td>1</td>\n",
       "      <td>3</td>\n",
       "      <td>2.772589</td>\n",
       "      <td>1</td>\n",
       "      <td>1</td>\n",
       "      <td>1</td>\n",
       "      <td>2013</td>\n",
       "      <td>1</td>\n",
       "      <td>1</td>\n",
       "      <td>1.0</td>\n",
       "      <td>0</td>\n",
       "      <td>1</td>\n",
       "      <td>0</td>\n",
       "    </tr>\n",
       "    <tr>\n",
       "      <th>2013-01-01</th>\n",
       "      <td>1</td>\n",
       "      <td>4</td>\n",
       "      <td>2.397895</td>\n",
       "      <td>1</td>\n",
       "      <td>1</td>\n",
       "      <td>1</td>\n",
       "      <td>2013</td>\n",
       "      <td>1</td>\n",
       "      <td>1</td>\n",
       "      <td>1.0</td>\n",
       "      <td>0</td>\n",
       "      <td>1</td>\n",
       "      <td>0</td>\n",
       "    </tr>\n",
       "    <tr>\n",
       "      <th>2013-01-01</th>\n",
       "      <td>1</td>\n",
       "      <td>5</td>\n",
       "      <td>2.484907</td>\n",
       "      <td>1</td>\n",
       "      <td>1</td>\n",
       "      <td>1</td>\n",
       "      <td>2013</td>\n",
       "      <td>1</td>\n",
       "      <td>1</td>\n",
       "      <td>1.0</td>\n",
       "      <td>0</td>\n",
       "      <td>1</td>\n",
       "      <td>0</td>\n",
       "    </tr>\n",
       "  </tbody>\n",
       "</table>\n",
       "</div>"
      ],
      "text/plain": [
       "            store  item     sales  dayofweek  quarter  month  year  dayofyear   \n",
       "date                                                                            \n",
       "2013-01-01      1     1  2.639057          1        1      1  2013          1  \\\n",
       "2013-01-01      1     2  3.526361          1        1      1  2013          1   \n",
       "2013-01-01      1     3  2.772589          1        1      1  2013          1   \n",
       "2013-01-01      1     4  2.397895          1        1      1  2013          1   \n",
       "2013-01-01      1     5  2.484907          1        1      1  2013          1   \n",
       "\n",
       "            dayofmonth  weekofyear  is_wknd  is_month_start  is_month_end  \n",
       "date                                                                       \n",
       "2013-01-01           1         1.0        0               1             0  \n",
       "2013-01-01           1         1.0        0               1             0  \n",
       "2013-01-01           1         1.0        0               1             0  \n",
       "2013-01-01           1         1.0        0               1             0  \n",
       "2013-01-01           1         1.0        0               1             0  "
      ]
     },
     "execution_count": 105,
     "metadata": {},
     "output_type": "execute_result"
    }
   ],
   "source": [
    "df_log = df_raw.copy()\n",
    "df_log['sales'] = np.log1p(df_log['sales'])\n",
    "df_log = feature_engineering(df_log)\n",
    "train_log, test_log, X_train_log, X_test_log, y_train_log, y_test_log = time_series_split(df_log, 'sales', cutoff_date)\n",
    "df_log.head()"
   ]
  },
  {
   "cell_type": "code",
   "execution_count": 106,
   "metadata": {},
   "outputs": [
    {
     "data": {
      "image/png": "[encoded data removed]",
      "text/plain": [
       "<Figure size 2000x700 with 2 Axes>"
      ]
     },
     "metadata": {},
     "output_type": "display_data"
    }
   ],
   "source": [
    "fig, ax = plt.subplots(1, 2, figsize=(20, 7))\n",
    "\n",
    "ax0 = sns.histplot(data=df_raw, x='sales', ax=ax[0])\n",
    "ax0.set_title('Standard Sales Distribution')\n",
    "ax0.set_xlabel('Sales')\n",
    "ax0.set_ylabel('Count')\n",
    "\n",
    "ax1 = sns.histplot(data=df_log, x='sales', ax=ax[1])\n",
    "ax1.set_title('Sales Distribution with Log Transformation')\n",
    "ax1.set_xlabel('Sales')\n",
    "ax1.set_ylabel('Count')\n",
    "\n",
    "plt.tight_layout()\n",
    "plt.show()"
   ]
  },
  {
   "cell_type": "markdown",
   "metadata": {},
   "source": [
    "By applying log transformation to sales variable, its distribution becomes more symmetric, allowing the model to better capture the patterns behind the data."
   ]
  },
  {
   "cell_type": "markdown",
   "metadata": {},
   "source": [
    "# 5. Modelling\n",
    "- In this step, I will train LightGBM model with the prepared data. Different preparation and modelling approaches will be tried here and I will stick with the best one.\n",
    "- First, I will try a baseline LigthtGBM model in standard configuration, trained on basic time series features data, comparing it to the average model. If its performance is better than the average model, machine learning is indeed suitable for the problem and I will stick with it, trying to enhance its results further."
   ]
  },
  {
   "cell_type": "markdown",
   "metadata": {},
   "source": [
    "### 1.0 Baseline Average Model\n",
    "Before diving into machine learning techniques, I will assess the performance of an average model. If machine learning achieves a better result, it is suitable for this forecasting task, else our simple average prediction will compensate more."
   ]
  },
  {
   "cell_type": "markdown",
   "metadata": {},
   "source": [
    "Defining a function to evaluate the baseline solution with RMSE."
   ]
  },
  {
   "cell_type": "code",
   "execution_count": 55,
   "metadata": {},
   "outputs": [],
   "source": [
    "def rmse(y_true, y_pred):\n",
    "    return np.sqrt(np.mean((y_pred - y_true) ** 2))"
   ]
  },
  {
   "cell_type": "markdown",
   "metadata": {},
   "source": [
    "Average model performance."
   ]
  },
  {
   "cell_type": "code",
   "execution_count": 56,
   "metadata": {},
   "outputs": [
    {
     "name": "stdout",
     "output_type": "stream",
     "text": [
      "Average model prediction: 52.111623773802656.\n",
      "Average model performance on test set: RMSE = 28.7\n"
     ]
    }
   ],
   "source": [
    "avg_pred = train['sales'].mean()\n",
    "\n",
    "print(f'Average model prediction: {avg_pred}.')\n",
    "print(f'Average model performance on test set: RMSE = {round(rmse(y_test, avg_pred), 2)}')"
   ]
  },
  {
   "cell_type": "markdown",
   "metadata": {},
   "source": [
    "### 1.1 Baseline LightGBM model\n",
    "Now I will compare the average model performance with standard configurated LightGBM performance. If it presents a better result, machine learning is suitable for this forecasting task."
   ]
  },
  {
   "cell_type": "code",
   "execution_count": 73,
   "metadata": {},
   "outputs": [
    {
     "name": "stdout",
     "output_type": "stream",
     "text": [
      "Baseline LightGBM model performance on test set: RMSE = 9.08\n"
     ]
    }
   ],
   "source": [
    "baseline_lgb = LGBMRegressor(verbose=-1)\n",
    "baseline_lgb.fit(X_train, y_train)\n",
    "baseline_lgb_pred = baseline_lgb.predict(X_test)\n",
    "print(f'Baseline LightGBM model performance on test set: RMSE = {round(np.sqrt(mean_squared_error(y_test, baseline_lgb_pred)), 2)}')\n"
   ]
  },
  {
   "cell_type": "markdown",
   "metadata": {},
   "source": [
    "The baseline LightGBM model performance is better than the average model performance! Thus, machine learning is indeed suitable for the forecasting task and I will keep trying to enhance this baseline LGBMRegressor result."
   ]
  },
  {
   "cell_type": "markdown",
   "metadata": {},
   "source": [
    "### 2.0 LightGBM model with log transformed data\n",
    "Now, let's see if the performance was improved by applying the log transformation to sales variable."
   ]
  },
  {
   "cell_type": "code",
   "execution_count": 103,
   "metadata": {},
   "outputs": [
    {
     "name": "stdout",
     "output_type": "stream",
     "text": [
      "Log LightGBM model performance on test set: RMSE = 8.94\n"
     ]
    }
   ],
   "source": [
    "log_lgb = LGBMRegressor(verbose=-1)\n",
    "log_lgb.fit(X_train_log, y_train_log)\n",
    "log_lgb_pred = log_lgb.predict(X_test_log)\n",
    "print(f'Log LightGBM model performance on test set: RMSE = {round(np.sqrt(mean_squared_error(np.expm1(y_test_log), np.expm1(log_lgb_pred))), 2)}')"
   ]
  },
  {
   "cell_type": "markdown",
   "metadata": {},
   "source": [
    "As expected, applying a log transformation to sales variable turns it more symmetric, allowing the model to better capture the patterns behind the data and improving performance. Thus, I will procceed with log transformed sales."
   ]
  }
 ],
 "metadata": {
  "kernelspec": {
   "display_name": "Python 3",
   "language": "python",
   "name": "python3"
  },
  "language_info": {
   "codemirror_mode": {
    "name": "ipython",
    "version": 3
   },
   "file_extension": ".py",
   "mimetype": "text/x-python",
   "name": "python",
   "nbconvert_exporter": "python",
   "pygments_lexer": "ipython3",
   "version": "3.11.5"
  }
 },
 "nbformat": 4,
 "nbformat_minor": 2
}
